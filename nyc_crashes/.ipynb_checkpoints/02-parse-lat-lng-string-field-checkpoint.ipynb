{
 "metadata": {
  "name": ""
 },
 "nbformat": 3,
 "nbformat_minor": 0,
 "worksheets": [
  {
   "cells": [
    {
     "cell_type": "code",
     "collapsed": false,
     "input": [
      "import pandas as pd\n",
      "\n",
      "pd.options.display.max_columns = 5200\n",
      "pd.options.display.max_rows    = 5200\n",
      "\n",
      "#csv_path = 'https://raw.githubusercontent.com/nygeog/data/master/nyc_crashes/data/NYPD_Motor_Vehicle_Collisions.csv'\n",
      "inCSV = 'data/NYPD_Motor_Vehicle_Collisions.csv'\n",
      "ouCSV = 'data/nypd_mv_collisions_latlng_parse.csv'\n",
      "\n",
      "df = pd.read_csv(inCSV).rename(columns=lambda x: x.lower())\n",
      "\n",
      "df = df[['location']]\n",
      "\n",
      "df = df.fillna('(0,0)') #replace missing with 0,0 to make parsing a little easier. \n",
      "\n",
      "df.head(5)\n",
      "\n",
      "#df.dtypes "
     ],
     "language": "python",
     "metadata": {},
     "outputs": [
      {
       "html": [
        "<div style=\"max-height:1000px;max-width:1500px;overflow:auto;\">\n",
        "<table border=\"1\" class=\"dataframe\">\n",
        "  <thead>\n",
        "    <tr style=\"text-align: right;\">\n",
        "      <th></th>\n",
        "      <th>location</th>\n",
        "    </tr>\n",
        "  </thead>\n",
        "  <tbody>\n",
        "    <tr>\n",
        "      <th>0</th>\n",
        "      <td>                     (0,0)</td>\n",
        "    </tr>\n",
        "    <tr>\n",
        "      <th>1</th>\n",
        "      <td> (40.7156221, -73.9942752)</td>\n",
        "    </tr>\n",
        "    <tr>\n",
        "      <th>2</th>\n",
        "      <td> (40.7475349, -73.9883068)</td>\n",
        "    </tr>\n",
        "    <tr>\n",
        "      <th>3</th>\n",
        "      <td> (40.8335582, -73.8577325)</td>\n",
        "    </tr>\n",
        "    <tr>\n",
        "      <th>4</th>\n",
        "      <td>  (40.7487997, -73.969846)</td>\n",
        "    </tr>\n",
        "  </tbody>\n",
        "</table>\n",
        "</div>"
       ],
       "metadata": {},
       "output_type": "pyout",
       "prompt_number": 8,
       "text": [
        "                    location\n",
        "0                      (0,0)\n",
        "1  (40.7156221, -73.9942752)\n",
        "2  (40.7475349, -73.9883068)\n",
        "3  (40.8335582, -73.8577325)\n",
        "4   (40.7487997, -73.969846)"
       ]
      }
     ],
     "prompt_number": 8
    },
    {
     "cell_type": "code",
     "collapsed": false,
     "input": [
      "df['lat'] = df.location.str.split(',',1).str[0]\n",
      "df['lat'] = df.lat.str.replace('(','')\n",
      "\n",
      "df['lng'] = df.location.str.split(',',1).str[1]\n",
      "df['lng'] = df.lng.str.replace(')','')\n",
      "\n",
      "df['lat'] = df['lat'].astype(float)\n",
      "df['lng'] = df['lng'].astype(float)\n",
      "\n",
      "df = df[(df.lat > 1) & (df.lng < 0)] #and get rid of the 0,0's. \n",
      "\n",
      "df.head(5)"
     ],
     "language": "python",
     "metadata": {},
     "outputs": [
      {
       "html": [
        "<div style=\"max-height:1000px;max-width:1500px;overflow:auto;\">\n",
        "<table border=\"1\" class=\"dataframe\">\n",
        "  <thead>\n",
        "    <tr style=\"text-align: right;\">\n",
        "      <th></th>\n",
        "      <th>location</th>\n",
        "      <th>lat</th>\n",
        "      <th>lng</th>\n",
        "    </tr>\n",
        "  </thead>\n",
        "  <tbody>\n",
        "    <tr>\n",
        "      <th>1</th>\n",
        "      <td> (40.7156221, -73.9942752)</td>\n",
        "      <td> 40.715622</td>\n",
        "      <td>-73.994275</td>\n",
        "    </tr>\n",
        "    <tr>\n",
        "      <th>2</th>\n",
        "      <td> (40.7475349, -73.9883068)</td>\n",
        "      <td> 40.747535</td>\n",
        "      <td>-73.988307</td>\n",
        "    </tr>\n",
        "    <tr>\n",
        "      <th>3</th>\n",
        "      <td> (40.8335582, -73.8577325)</td>\n",
        "      <td> 40.833558</td>\n",
        "      <td>-73.857732</td>\n",
        "    </tr>\n",
        "    <tr>\n",
        "      <th>4</th>\n",
        "      <td>  (40.7487997, -73.969846)</td>\n",
        "      <td> 40.748800</td>\n",
        "      <td>-73.969846</td>\n",
        "    </tr>\n",
        "    <tr>\n",
        "      <th>5</th>\n",
        "      <td> (40.6172954, -74.0804791)</td>\n",
        "      <td> 40.617295</td>\n",
        "      <td>-74.080479</td>\n",
        "    </tr>\n",
        "  </tbody>\n",
        "</table>\n",
        "</div>"
       ],
       "metadata": {},
       "output_type": "pyout",
       "prompt_number": 29,
       "text": [
        "                    location        lat        lng\n",
        "1  (40.7156221, -73.9942752)  40.715622 -73.994275\n",
        "2  (40.7475349, -73.9883068)  40.747535 -73.988307\n",
        "3  (40.8335582, -73.8577325)  40.833558 -73.857732\n",
        "4   (40.7487997, -73.969846)  40.748800 -73.969846\n",
        "5  (40.6172954, -74.0804791)  40.617295 -74.080479"
       ]
      }
     ],
     "prompt_number": 29
    },
    {
     "cell_type": "code",
     "collapsed": false,
     "input": [],
     "language": "python",
     "metadata": {},
     "outputs": []
    }
   ],
   "metadata": {}
  }
 ]
}